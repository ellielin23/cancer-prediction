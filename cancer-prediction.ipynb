{
 "cells": [
  {
   "cell_type": "code",
   "execution_count": 13,
   "metadata": {},
   "outputs": [],
   "source": [
    "# import libraries\n",
    "import numpy as np\n",
    "import pandas as pd\n",
    "import matplotlib.pyplot as plt\n",
    "from sklearn.model_selection import train_test_split\n",
    "from sklearn.datasets import load_breast_cancer\n",
    "from sklearn.preprocessing import StandardScaler\n",
    "from tensorflow.keras.models import Sequential\n",
    "from tensorflow.keras.layers import Dense"
   ]
  },
  {
   "cell_type": "code",
   "execution_count": 14,
   "metadata": {},
   "outputs": [
    {
     "data": {
      "text/html": [
       "<div>\n",
       "<style scoped>\n",
       "    .dataframe tbody tr th:only-of-type {\n",
       "        vertical-align: middle;\n",
       "    }\n",
       "\n",
       "    .dataframe tbody tr th {\n",
       "        vertical-align: top;\n",
       "    }\n",
       "\n",
       "    .dataframe thead th {\n",
       "        text-align: right;\n",
       "    }\n",
       "</style>\n",
       "<table border=\"1\" class=\"dataframe\">\n",
       "  <thead>\n",
       "    <tr style=\"text-align: right;\">\n",
       "      <th></th>\n",
       "      <th>mean radius</th>\n",
       "      <th>mean texture</th>\n",
       "      <th>mean perimeter</th>\n",
       "      <th>mean area</th>\n",
       "      <th>mean smoothness</th>\n",
       "      <th>mean compactness</th>\n",
       "      <th>mean concavity</th>\n",
       "      <th>mean concave points</th>\n",
       "      <th>mean symmetry</th>\n",
       "      <th>mean fractal dimension</th>\n",
       "      <th>...</th>\n",
       "      <th>worst texture</th>\n",
       "      <th>worst perimeter</th>\n",
       "      <th>worst area</th>\n",
       "      <th>worst smoothness</th>\n",
       "      <th>worst compactness</th>\n",
       "      <th>worst concavity</th>\n",
       "      <th>worst concave points</th>\n",
       "      <th>worst symmetry</th>\n",
       "      <th>worst fractal dimension</th>\n",
       "      <th>target</th>\n",
       "    </tr>\n",
       "  </thead>\n",
       "  <tbody>\n",
       "    <tr>\n",
       "      <th>0</th>\n",
       "      <td>17.99</td>\n",
       "      <td>10.38</td>\n",
       "      <td>122.80</td>\n",
       "      <td>1001.0</td>\n",
       "      <td>0.11840</td>\n",
       "      <td>0.27760</td>\n",
       "      <td>0.3001</td>\n",
       "      <td>0.14710</td>\n",
       "      <td>0.2419</td>\n",
       "      <td>0.07871</td>\n",
       "      <td>...</td>\n",
       "      <td>17.33</td>\n",
       "      <td>184.60</td>\n",
       "      <td>2019.0</td>\n",
       "      <td>0.1622</td>\n",
       "      <td>0.6656</td>\n",
       "      <td>0.7119</td>\n",
       "      <td>0.2654</td>\n",
       "      <td>0.4601</td>\n",
       "      <td>0.11890</td>\n",
       "      <td>0</td>\n",
       "    </tr>\n",
       "    <tr>\n",
       "      <th>1</th>\n",
       "      <td>20.57</td>\n",
       "      <td>17.77</td>\n",
       "      <td>132.90</td>\n",
       "      <td>1326.0</td>\n",
       "      <td>0.08474</td>\n",
       "      <td>0.07864</td>\n",
       "      <td>0.0869</td>\n",
       "      <td>0.07017</td>\n",
       "      <td>0.1812</td>\n",
       "      <td>0.05667</td>\n",
       "      <td>...</td>\n",
       "      <td>23.41</td>\n",
       "      <td>158.80</td>\n",
       "      <td>1956.0</td>\n",
       "      <td>0.1238</td>\n",
       "      <td>0.1866</td>\n",
       "      <td>0.2416</td>\n",
       "      <td>0.1860</td>\n",
       "      <td>0.2750</td>\n",
       "      <td>0.08902</td>\n",
       "      <td>0</td>\n",
       "    </tr>\n",
       "    <tr>\n",
       "      <th>2</th>\n",
       "      <td>19.69</td>\n",
       "      <td>21.25</td>\n",
       "      <td>130.00</td>\n",
       "      <td>1203.0</td>\n",
       "      <td>0.10960</td>\n",
       "      <td>0.15990</td>\n",
       "      <td>0.1974</td>\n",
       "      <td>0.12790</td>\n",
       "      <td>0.2069</td>\n",
       "      <td>0.05999</td>\n",
       "      <td>...</td>\n",
       "      <td>25.53</td>\n",
       "      <td>152.50</td>\n",
       "      <td>1709.0</td>\n",
       "      <td>0.1444</td>\n",
       "      <td>0.4245</td>\n",
       "      <td>0.4504</td>\n",
       "      <td>0.2430</td>\n",
       "      <td>0.3613</td>\n",
       "      <td>0.08758</td>\n",
       "      <td>0</td>\n",
       "    </tr>\n",
       "    <tr>\n",
       "      <th>3</th>\n",
       "      <td>11.42</td>\n",
       "      <td>20.38</td>\n",
       "      <td>77.58</td>\n",
       "      <td>386.1</td>\n",
       "      <td>0.14250</td>\n",
       "      <td>0.28390</td>\n",
       "      <td>0.2414</td>\n",
       "      <td>0.10520</td>\n",
       "      <td>0.2597</td>\n",
       "      <td>0.09744</td>\n",
       "      <td>...</td>\n",
       "      <td>26.50</td>\n",
       "      <td>98.87</td>\n",
       "      <td>567.7</td>\n",
       "      <td>0.2098</td>\n",
       "      <td>0.8663</td>\n",
       "      <td>0.6869</td>\n",
       "      <td>0.2575</td>\n",
       "      <td>0.6638</td>\n",
       "      <td>0.17300</td>\n",
       "      <td>0</td>\n",
       "    </tr>\n",
       "    <tr>\n",
       "      <th>4</th>\n",
       "      <td>20.29</td>\n",
       "      <td>14.34</td>\n",
       "      <td>135.10</td>\n",
       "      <td>1297.0</td>\n",
       "      <td>0.10030</td>\n",
       "      <td>0.13280</td>\n",
       "      <td>0.1980</td>\n",
       "      <td>0.10430</td>\n",
       "      <td>0.1809</td>\n",
       "      <td>0.05883</td>\n",
       "      <td>...</td>\n",
       "      <td>16.67</td>\n",
       "      <td>152.20</td>\n",
       "      <td>1575.0</td>\n",
       "      <td>0.1374</td>\n",
       "      <td>0.2050</td>\n",
       "      <td>0.4000</td>\n",
       "      <td>0.1625</td>\n",
       "      <td>0.2364</td>\n",
       "      <td>0.07678</td>\n",
       "      <td>0</td>\n",
       "    </tr>\n",
       "  </tbody>\n",
       "</table>\n",
       "<p>5 rows × 31 columns</p>\n",
       "</div>"
      ],
      "text/plain": [
       "   mean radius  mean texture  mean perimeter  mean area  mean smoothness  \\\n",
       "0        17.99         10.38          122.80     1001.0          0.11840   \n",
       "1        20.57         17.77          132.90     1326.0          0.08474   \n",
       "2        19.69         21.25          130.00     1203.0          0.10960   \n",
       "3        11.42         20.38           77.58      386.1          0.14250   \n",
       "4        20.29         14.34          135.10     1297.0          0.10030   \n",
       "\n",
       "   mean compactness  mean concavity  mean concave points  mean symmetry  \\\n",
       "0           0.27760          0.3001              0.14710         0.2419   \n",
       "1           0.07864          0.0869              0.07017         0.1812   \n",
       "2           0.15990          0.1974              0.12790         0.2069   \n",
       "3           0.28390          0.2414              0.10520         0.2597   \n",
       "4           0.13280          0.1980              0.10430         0.1809   \n",
       "\n",
       "   mean fractal dimension  ...  worst texture  worst perimeter  worst area  \\\n",
       "0                 0.07871  ...          17.33           184.60      2019.0   \n",
       "1                 0.05667  ...          23.41           158.80      1956.0   \n",
       "2                 0.05999  ...          25.53           152.50      1709.0   \n",
       "3                 0.09744  ...          26.50            98.87       567.7   \n",
       "4                 0.05883  ...          16.67           152.20      1575.0   \n",
       "\n",
       "   worst smoothness  worst compactness  worst concavity  worst concave points  \\\n",
       "0            0.1622             0.6656           0.7119                0.2654   \n",
       "1            0.1238             0.1866           0.2416                0.1860   \n",
       "2            0.1444             0.4245           0.4504                0.2430   \n",
       "3            0.2098             0.8663           0.6869                0.2575   \n",
       "4            0.1374             0.2050           0.4000                0.1625   \n",
       "\n",
       "   worst symmetry  worst fractal dimension  target  \n",
       "0          0.4601                  0.11890       0  \n",
       "1          0.2750                  0.08902       0  \n",
       "2          0.3613                  0.08758       0  \n",
       "3          0.6638                  0.17300       0  \n",
       "4          0.2364                  0.07678       0  \n",
       "\n",
       "[5 rows x 31 columns]"
      ]
     },
     "execution_count": 14,
     "metadata": {},
     "output_type": "execute_result"
    }
   ],
   "source": [
    "# load dataset\n",
    "data = load_breast_cancer()\n",
    "\n",
    "# create dataframe\n",
    "df = pd.DataFrame(data.data, columns=data.feature_names)\n",
    "df['target'] = data.target\n",
    "\n",
    "# display first few rows\n",
    "df.head()"
   ]
  },
  {
   "cell_type": "code",
   "execution_count": 15,
   "metadata": {},
   "outputs": [],
   "source": [
    "X = df.drop('target', axis=1)  # Features (drop target column)\n",
    "y = df['target']  # Target (labels)\n",
    "\n",
    "# Split the dataset into training and testing sets (80% train, 20% test)\n",
    "X_train, X_test, y_train, y_test = train_test_split(X, y, test_size=0.2, random_state=42)"
   ]
  },
  {
   "cell_type": "code",
   "execution_count": 16,
   "metadata": {},
   "outputs": [],
   "source": [
    "# Standardize the features by scaling them to have mean = 0 and variance = 1\n",
    "scaler = StandardScaler()\n",
    "X_train = scaler.fit_transform(X_train)\n",
    "X_test = scaler.transform(X_test)"
   ]
  },
  {
   "cell_type": "code",
   "execution_count": 17,
   "metadata": {},
   "outputs": [],
   "source": [
    "# Initialize the model\n",
    "model = Sequential()\n",
    "\n",
    "# Add the first hidden layer with 16 neurons, using ReLU activation\n",
    "model.add(Dense(16, input_dim=X_train.shape[1], activation='relu'))\n",
    "\n",
    "# Add the second hidden layer with 8 neurons, using ReLU activation\n",
    "model.add(Dense(8, activation='relu'))\n",
    "\n",
    "# Add the output layer with 1 neuron (binary classification), using sigmoid activation\n",
    "model.add(Dense(1, activation='sigmoid'))"
   ]
  },
  {
   "cell_type": "code",
   "execution_count": 18,
   "metadata": {},
   "outputs": [],
   "source": [
    "# Compile the model\n",
    "model.compile(optimizer='adam', loss='binary_crossentropy', metrics=['accuracy'])\n"
   ]
  },
  {
   "cell_type": "code",
   "execution_count": 19,
   "metadata": {},
   "outputs": [
    {
     "name": "stdout",
     "output_type": "stream",
     "text": [
      "Epoch 1/50\n",
      " 1/15 [=>............................] - ETA: 2s - loss: 0.7699 - accuracy: 0.3750"
     ]
    },
    {
     "name": "stderr",
     "output_type": "stream",
     "text": [
      "2025-01-11 19:16:31.024381: W tensorflow/tsl/platform/profile_utils/cpu_utils.cc:128] Failed to get CPU frequency: 0 Hz\n"
     ]
    },
    {
     "name": "stdout",
     "output_type": "stream",
     "text": [
      "15/15 [==============================] - 0s 6ms/step - loss: 0.5889 - accuracy: 0.6549 - val_loss: 0.4914 - val_accuracy: 0.7544\n",
      "Epoch 2/50\n",
      "15/15 [==============================] - 0s 1ms/step - loss: 0.4406 - accuracy: 0.8066 - val_loss: 0.3723 - val_accuracy: 0.8947\n",
      "Epoch 3/50\n",
      "15/15 [==============================] - 0s 1ms/step - loss: 0.3493 - accuracy: 0.8857 - val_loss: 0.2946 - val_accuracy: 0.9298\n",
      "Epoch 4/50\n",
      "15/15 [==============================] - 0s 1ms/step - loss: 0.2883 - accuracy: 0.9165 - val_loss: 0.2372 - val_accuracy: 0.9386\n",
      "Epoch 5/50\n",
      "15/15 [==============================] - 0s 4ms/step - loss: 0.2437 - accuracy: 0.9319 - val_loss: 0.1930 - val_accuracy: 0.9561\n",
      "Epoch 6/50\n",
      "15/15 [==============================] - 0s 1ms/step - loss: 0.2075 - accuracy: 0.9407 - val_loss: 0.1613 - val_accuracy: 0.9737\n",
      "Epoch 7/50\n",
      "15/15 [==============================] - 0s 1ms/step - loss: 0.1791 - accuracy: 0.9516 - val_loss: 0.1366 - val_accuracy: 0.9649\n",
      "Epoch 8/50\n",
      "15/15 [==============================] - 0s 2ms/step - loss: 0.1584 - accuracy: 0.9648 - val_loss: 0.1184 - val_accuracy: 0.9649\n",
      "Epoch 9/50\n",
      "15/15 [==============================] - 0s 1ms/step - loss: 0.1421 - accuracy: 0.9670 - val_loss: 0.1061 - val_accuracy: 0.9737\n",
      "Epoch 10/50\n",
      "15/15 [==============================] - 0s 2ms/step - loss: 0.1291 - accuracy: 0.9670 - val_loss: 0.0965 - val_accuracy: 0.9737\n",
      "Epoch 11/50\n",
      "15/15 [==============================] - 0s 1ms/step - loss: 0.1184 - accuracy: 0.9670 - val_loss: 0.0877 - val_accuracy: 0.9737\n",
      "Epoch 12/50\n",
      "15/15 [==============================] - 0s 1ms/step - loss: 0.1093 - accuracy: 0.9670 - val_loss: 0.0813 - val_accuracy: 0.9825\n",
      "Epoch 13/50\n",
      "15/15 [==============================] - 0s 1ms/step - loss: 0.1015 - accuracy: 0.9714 - val_loss: 0.0772 - val_accuracy: 0.9825\n",
      "Epoch 14/50\n",
      "15/15 [==============================] - 0s 2ms/step - loss: 0.0961 - accuracy: 0.9736 - val_loss: 0.0749 - val_accuracy: 0.9737\n",
      "Epoch 15/50\n",
      "15/15 [==============================] - 0s 1ms/step - loss: 0.0908 - accuracy: 0.9758 - val_loss: 0.0719 - val_accuracy: 0.9737\n",
      "Epoch 16/50\n",
      "15/15 [==============================] - 0s 1ms/step - loss: 0.0861 - accuracy: 0.9780 - val_loss: 0.0698 - val_accuracy: 0.9737\n",
      "Epoch 17/50\n",
      "15/15 [==============================] - 0s 1ms/step - loss: 0.0822 - accuracy: 0.9824 - val_loss: 0.0677 - val_accuracy: 0.9737\n",
      "Epoch 18/50\n",
      "15/15 [==============================] - 0s 1ms/step - loss: 0.0784 - accuracy: 0.9824 - val_loss: 0.0659 - val_accuracy: 0.9649\n",
      "Epoch 19/50\n",
      "15/15 [==============================] - 0s 1ms/step - loss: 0.0750 - accuracy: 0.9824 - val_loss: 0.0650 - val_accuracy: 0.9649\n",
      "Epoch 20/50\n",
      "15/15 [==============================] - 0s 1ms/step - loss: 0.0721 - accuracy: 0.9824 - val_loss: 0.0640 - val_accuracy: 0.9649\n",
      "Epoch 21/50\n",
      "15/15 [==============================] - 0s 1ms/step - loss: 0.0696 - accuracy: 0.9824 - val_loss: 0.0627 - val_accuracy: 0.9649\n",
      "Epoch 22/50\n",
      "15/15 [==============================] - 0s 1ms/step - loss: 0.0674 - accuracy: 0.9846 - val_loss: 0.0610 - val_accuracy: 0.9649\n",
      "Epoch 23/50\n",
      "15/15 [==============================] - 0s 1ms/step - loss: 0.0651 - accuracy: 0.9846 - val_loss: 0.0604 - val_accuracy: 0.9649\n",
      "Epoch 24/50\n",
      "15/15 [==============================] - 0s 1ms/step - loss: 0.0630 - accuracy: 0.9868 - val_loss: 0.0603 - val_accuracy: 0.9561\n",
      "Epoch 25/50\n",
      "15/15 [==============================] - 0s 1ms/step - loss: 0.0613 - accuracy: 0.9846 - val_loss: 0.0593 - val_accuracy: 0.9649\n",
      "Epoch 26/50\n",
      "15/15 [==============================] - 0s 1ms/step - loss: 0.0595 - accuracy: 0.9846 - val_loss: 0.0592 - val_accuracy: 0.9561\n",
      "Epoch 27/50\n",
      "15/15 [==============================] - 0s 1ms/step - loss: 0.0576 - accuracy: 0.9868 - val_loss: 0.0595 - val_accuracy: 0.9649\n",
      "Epoch 28/50\n",
      "15/15 [==============================] - 0s 1ms/step - loss: 0.0563 - accuracy: 0.9868 - val_loss: 0.0594 - val_accuracy: 0.9649\n",
      "Epoch 29/50\n",
      "15/15 [==============================] - 0s 2ms/step - loss: 0.0544 - accuracy: 0.9868 - val_loss: 0.0594 - val_accuracy: 0.9649\n",
      "Epoch 30/50\n",
      "15/15 [==============================] - 0s 1ms/step - loss: 0.0531 - accuracy: 0.9868 - val_loss: 0.0598 - val_accuracy: 0.9649\n",
      "Epoch 31/50\n",
      "15/15 [==============================] - 0s 1ms/step - loss: 0.0518 - accuracy: 0.9868 - val_loss: 0.0600 - val_accuracy: 0.9649\n",
      "Epoch 32/50\n",
      "15/15 [==============================] - 0s 1ms/step - loss: 0.0505 - accuracy: 0.9868 - val_loss: 0.0608 - val_accuracy: 0.9649\n",
      "Epoch 33/50\n",
      "15/15 [==============================] - 0s 1ms/step - loss: 0.0492 - accuracy: 0.9890 - val_loss: 0.0608 - val_accuracy: 0.9649\n",
      "Epoch 34/50\n",
      "15/15 [==============================] - 0s 1ms/step - loss: 0.0480 - accuracy: 0.9912 - val_loss: 0.0626 - val_accuracy: 0.9649\n",
      "Epoch 35/50\n",
      "15/15 [==============================] - 0s 1ms/step - loss: 0.0467 - accuracy: 0.9890 - val_loss: 0.0634 - val_accuracy: 0.9649\n",
      "Epoch 36/50\n",
      "15/15 [==============================] - 0s 1ms/step - loss: 0.0457 - accuracy: 0.9912 - val_loss: 0.0635 - val_accuracy: 0.9649\n",
      "Epoch 37/50\n",
      "15/15 [==============================] - 0s 1ms/step - loss: 0.0445 - accuracy: 0.9912 - val_loss: 0.0625 - val_accuracy: 0.9649\n",
      "Epoch 38/50\n",
      "15/15 [==============================] - 0s 1ms/step - loss: 0.0436 - accuracy: 0.9912 - val_loss: 0.0631 - val_accuracy: 0.9649\n",
      "Epoch 39/50\n",
      "15/15 [==============================] - 0s 1ms/step - loss: 0.0426 - accuracy: 0.9912 - val_loss: 0.0637 - val_accuracy: 0.9649\n",
      "Epoch 40/50\n",
      "15/15 [==============================] - 0s 1ms/step - loss: 0.0421 - accuracy: 0.9912 - val_loss: 0.0687 - val_accuracy: 0.9649\n",
      "Epoch 41/50\n",
      "15/15 [==============================] - 0s 1ms/step - loss: 0.0409 - accuracy: 0.9912 - val_loss: 0.0673 - val_accuracy: 0.9649\n",
      "Epoch 42/50\n",
      "15/15 [==============================] - 0s 1ms/step - loss: 0.0398 - accuracy: 0.9912 - val_loss: 0.0667 - val_accuracy: 0.9649\n",
      "Epoch 43/50\n",
      "15/15 [==============================] - 0s 1ms/step - loss: 0.0391 - accuracy: 0.9912 - val_loss: 0.0643 - val_accuracy: 0.9649\n",
      "Epoch 44/50\n",
      "15/15 [==============================] - 0s 2ms/step - loss: 0.0382 - accuracy: 0.9912 - val_loss: 0.0654 - val_accuracy: 0.9649\n",
      "Epoch 45/50\n",
      "15/15 [==============================] - 0s 1ms/step - loss: 0.0372 - accuracy: 0.9912 - val_loss: 0.0639 - val_accuracy: 0.9737\n",
      "Epoch 46/50\n",
      "15/15 [==============================] - 0s 1ms/step - loss: 0.0366 - accuracy: 0.9912 - val_loss: 0.0647 - val_accuracy: 0.9737\n",
      "Epoch 47/50\n",
      "15/15 [==============================] - 0s 2ms/step - loss: 0.0358 - accuracy: 0.9912 - val_loss: 0.0649 - val_accuracy: 0.9737\n",
      "Epoch 48/50\n",
      "15/15 [==============================] - 0s 1ms/step - loss: 0.0352 - accuracy: 0.9912 - val_loss: 0.0678 - val_accuracy: 0.9649\n",
      "Epoch 49/50\n",
      "15/15 [==============================] - 0s 1ms/step - loss: 0.0342 - accuracy: 0.9912 - val_loss: 0.0685 - val_accuracy: 0.9737\n",
      "Epoch 50/50\n",
      "15/15 [==============================] - 0s 1ms/step - loss: 0.0334 - accuracy: 0.9912 - val_loss: 0.0680 - val_accuracy: 0.9737\n"
     ]
    }
   ],
   "source": [
    "# Train the model on the training data\n",
    "history = model.fit(X_train, y_train, epochs=50, batch_size=32, validation_data=(X_test, y_test))\n"
   ]
  },
  {
   "cell_type": "code",
   "execution_count": 20,
   "metadata": {},
   "outputs": [
    {
     "name": "stdout",
     "output_type": "stream",
     "text": [
      "4/4 [==============================] - 0s 599us/step - loss: 0.0680 - accuracy: 0.9737\n",
      "Test Loss: 0.06804987788200378\n",
      "Test Accuracy: 0.9736841917037964\n"
     ]
    }
   ],
   "source": [
    "# Evaluate the model on the test set\n",
    "loss, accuracy = model.evaluate(X_test, y_test)\n",
    "print(f\"Test Loss: {loss}\")\n",
    "print(f\"Test Accuracy: {accuracy}\")\n"
   ]
  },
  {
   "cell_type": "code",
   "execution_count": 21,
   "metadata": {},
   "outputs": [
    {
     "data": {
      "image/png": "[encoded data removed]",
      "text/plain": [
       "<Figure size 640x480 with 1 Axes>"
      ]
     },
     "metadata": {},
     "output_type": "display_data"
    },
    {
     "data": {
      "image/png": "[encoded data removed]",
      "text/plain": [
       "<Figure size 640x480 with 1 Axes>"
      ]
     },
     "metadata": {},
     "output_type": "display_data"
    }
   ],
   "source": [
    "# Plot training & validation accuracy values\n",
    "plt.plot(history.history['accuracy'])\n",
    "plt.plot(history.history['val_accuracy'])\n",
    "plt.title('Model Accuracy')\n",
    "plt.xlabel('Epochs')\n",
    "plt.ylabel('Accuracy')\n",
    "plt.legend(['Train', 'Test'], loc='upper left')\n",
    "plt.show()\n",
    "\n",
    "# Plot training & validation loss values\n",
    "plt.plot(history.history['loss'])\n",
    "plt.plot(history.history['val_loss'])\n",
    "plt.title('Model Loss')\n",
    "plt.xlabel('Epochs')\n",
    "plt.ylabel('Loss')\n",
    "plt.legend(['Train', 'Test'], loc='upper left')\n",
    "plt.show()\n"
   ]
  },
  {
   "cell_type": "code",
   "execution_count": 22,
   "metadata": {},
   "outputs": [
    {
     "name": "stdout",
     "output_type": "stream",
     "text": [
      "4/4 [==============================] - 0s 662us/step\n",
      "              precision    recall  f1-score   support\n",
      "\n",
      "           0       0.95      0.98      0.97        43\n",
      "           1       0.99      0.97      0.98        71\n",
      "\n",
      "    accuracy                           0.97       114\n",
      "   macro avg       0.97      0.97      0.97       114\n",
      "weighted avg       0.97      0.97      0.97       114\n",
      "\n",
      "Confusion Matrix:\n",
      " [[42  1]\n",
      " [ 2 69]]\n"
     ]
    }
   ],
   "source": [
    "# Get predictions (thresholded at 0.5 for binary classification)\n",
    "y_pred = (model.predict(X_test) > 0.5).astype(\"int32\")\n",
    "\n",
    "# Classification report\n",
    "from sklearn.metrics import classification_report\n",
    "print(classification_report(y_test, y_pred))\n",
    "\n",
    "# Confusion matrix\n",
    "from sklearn.metrics import confusion_matrix\n",
    "cm = confusion_matrix(y_test, y_pred)\n",
    "print(\"Confusion Matrix:\\n\", cm)\n"
   ]
  },
  {
   "cell_type": "markdown",
   "metadata": {},
   "source": [
    "## second model\n",
    "- type of activation function: relu, sigmoid\n",
    "- number of neurons per layer\n",
    "- number of layers"
   ]
  },
  {
   "cell_type": "code",
   "execution_count": 24,
   "metadata": {},
   "outputs": [
    {
     "data": {
      "text/plain": [
       "569"
      ]
     },
     "execution_count": 24,
     "metadata": {},
     "output_type": "execute_result"
    }
   ],
   "source": [
    "len(df)"
   ]
  },
  {
   "cell_type": "code",
   "execution_count": null,
   "metadata": {},
   "outputs": [],
   "source": []
  }
 ],
 "metadata": {
  "kernelspec": {
   "display_name": "cancer-prediction",
   "language": "python",
   "name": "python3"
  },
  "language_info": {
   "codemirror_mode": {
    "name": "ipython",
    "version": 3
   },
   "file_extension": ".py",
   "mimetype": "text/x-python",
   "name": "python",
   "nbconvert_exporter": "python",
   "pygments_lexer": "ipython3",
   "version": "3.10.16"
  }
 },
 "nbformat": 4,
 "nbformat_minor": 2
}
